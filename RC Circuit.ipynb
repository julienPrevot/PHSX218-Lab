{
 "cells": [
  {
   "cell_type": "code",
   "execution_count": 38,
   "metadata": {},
   "outputs": [
    {
     "name": "stdout",
     "output_type": "stream",
     "text": [
      "VdTarget= 4.43072\n",
      "VcTarget = 7.609279999999999\n",
      "rd = 27.347 s\n",
      "rc = 29.641000000000002 s\n",
      "drd = 0.06337270705911177 s\n",
      "drc = 0.0764911759616754 s\n",
      "r constant calculated = 27.134999999999998 s\n",
      "Uncertainty in r = 0.02700004676037617 s\n",
      "Time constant = 27.134999999999998 ± 0.02700004676037617 s\n"
     ]
    },
    {
     "data": {
      "image/png": "[encoded data removed]",
      "text/plain": [
       "<Figure size 432x288 with 1 Axes>"
      ]
     },
     "metadata": {
      "needs_background": "light"
     },
     "output_type": "display_data"
    }
   ],
   "source": [
    "import numpy as np\n",
    "import matplotlib.pyplot as plt\n",
    "\n",
    "t = [0,10,20,30,40,50,60,70,80,90,100,110,120]\n",
    "\n",
    "Vc = [0,3.675,5.703,7.68,8.73,9.57,10.13,10.52,10.79,10.97,11.09,11.17,11.12]\n",
    "\n",
    "Vd = [12,8.28,5.76,3.971,2.728,1.892,1.375,0.934,0.658,0.457,0.323,0.227,0.163]\n",
    "\n",
    "dt = 0.05\n",
    "dV = 0.001\n",
    "\n",
    "plt.plot(t,Vc)\n",
    "plt.plot(t,Vd)\n",
    "plt.title('Charging and Discharging Curve')\n",
    "plt.xlabel('time (s)')\n",
    "plt.ylabel('Volts (V)')\n",
    "\n",
    "V0 = 12.04\n",
    "\n",
    "VdTarget = V0 * 0.368 \n",
    "print('VdTarget=', VdTarget)\n",
    "VcTarget = V0 * 0.632\n",
    "print('VcTarget =', VcTarget)\n",
    "\n",
    "td = np.array([27.5,27.12,27.32,27.73,27.07,27.36,27.47,27.21,27.16,27.53])\n",
    "rd = np.average(td)\n",
    "print('rd =', rd, 's')\n",
    "\n",
    "tc = np.array([29.61,29.93,29.1,29.8,29.86,29.44,29.92,29.52,29.6,29.63])\n",
    "rc = np.average(tc)\n",
    "print('rc =', rc, 's')\n",
    "\n",
    "drd = np.std(td) / np.sqrt(10)\n",
    "print('drd =', drd, 's')\n",
    "\n",
    "drc = np.std(tc) / np.sqrt(10)\n",
    "print('drc =', drc, 's')\n",
    "\n",
    "C = 54.0E-6 #originally in mF\n",
    "R = 502500 #originaly in kohm\n",
    "r = C * R\n",
    "print('r constant calculated =', r, 's')\n",
    "\n",
    "dC = 0.1E-9\n",
    "dR = 500\n",
    "\n",
    "def ruleFour(Q,consts,deltas,vals):\n",
    "    dQ = np.abs(Q)*np.sqrt(np.sum((consts*deltas/vals)**2))\n",
    "    return dQ\n",
    "\n",
    "const = np.array([1,1])\n",
    "delta = np.array([dC,dR])\n",
    "val = np.array([C,R])\n",
    "\n",
    "dr = ruleFour(r,const,delta,val)\n",
    "\n",
    "print('Uncertainty in r =', dr, 's')\n",
    "print('Time constant =', r, '±', dr, 's')\n"
   ]
  },
  {
   "cell_type": "code",
   "execution_count": null,
   "metadata": {},
   "outputs": [],
   "source": []
  }
 ],
 "metadata": {
  "kernelspec": {
   "display_name": "Python 3",
   "language": "python",
   "name": "python3"
  },
  "language_info": {
   "codemirror_mode": {
    "name": "ipython",
    "version": 3
   },
   "file_extension": ".py",
   "mimetype": "text/x-python",
   "name": "python",
   "nbconvert_exporter": "python",
   "pygments_lexer": "ipython3",
   "version": "3.7.3"
  }
 },
 "nbformat": 4,
 "nbformat_minor": 2
}
