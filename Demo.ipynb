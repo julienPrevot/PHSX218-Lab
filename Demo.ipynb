{
 "cells": [
  {
   "cell_type": "code",
   "execution_count": 2,
   "metadata": {},
   "outputs": [],
   "source": [
    "import numpy as np"
   ]
  },
  {
   "cell_type": "markdown",
   "metadata": {},
   "source": [
    "first, creat a function. as an example use the equation for total energy: $TE = \\frac{1}{2}mv^2 + mgh$"
   ]
  },
  {
   "cell_type": "code",
   "execution_count": 3,
   "metadata": {},
   "outputs": [],
   "source": [
    "def totalE(m, v, h):\n",
    "    TE = 1/2*m*v**2 + m*9.8*h\n",
    "    return TE"
   ]
  },
  {
   "cell_type": "code",
   "execution_count": 4,
   "metadata": {},
   "outputs": [
    {
     "name": "stdout",
     "output_type": "stream",
     "text": [
      "Total Energy = 242.54999999999998 Joules\n"
     ]
    }
   ],
   "source": [
    "mass = 1.2\n",
    "vel = 3.5\n",
    "height = 20\n",
    "\n",
    "total_energy = totalE(mass, vel, height)\n",
    "print(\"Total Energy =\", total_energy, \"Joules\")"
   ]
  },
  {
   "cell_type": "code",
   "execution_count": 5,
   "metadata": {},
   "outputs": [
    {
     "name": "stdout",
     "output_type": "stream",
     "text": [
      "[ 9.  -0.9 22.  11.  31. ]\n"
     ]
    }
   ],
   "source": [
    "mass_array = np.array([1,2,3,4,3])\n",
    "vel_array = np.array([3,2,4,5,6])\n",
    "height_array = np.array([10,0.1,23,12,32])\n",
    "\n",
    "good_height = height_array-1\n",
    "print(good_height)\n"
   ]
  },
  {
   "cell_type": "code",
   "execution_count": 6,
   "metadata": {},
   "outputs": [
    {
     "name": "stdout",
     "output_type": "stream",
     "text": [
      "[102.5    5.96 700.2  520.4  994.8 ]\n"
     ]
    }
   ],
   "source": [
    "totalenergy = totalE(mass_array, vel_array, height_array)\n",
    "print(totalenergy)"
   ]
  },
  {
   "cell_type": "code",
   "execution_count": 7,
   "metadata": {},
   "outputs": [],
   "source": [
    "def rule3(dA,dB):\n",
    "    dQ = np.sqrt(dA**2+dB**2)\n",
    "    return dQ\n",
    "\n"
   ]
  },
  {
   "cell_type": "code",
   "execution_count": 15,
   "metadata": {},
   "outputs": [
    {
     "name": "stdout",
     "output_type": "stream",
     "text": [
      "alfa = 1.7228309558266145e-05 1/°c\n",
      "2.615307978828764e-07 1/°c\n"
     ]
    }
   ],
   "source": [
    "L = 1.05\n",
    "dL = 0.001\n",
    "DL = 0.00125\n",
    "dDL = 0.00001\n",
    "Ti = 23.4\n",
    "Tf = 92.5\n",
    "dTi = 0.3\n",
    "dTf = 0.1\n",
    "\n",
    "def thermal_exp(a,L,Tf,Ti):\n",
    "    DL = a*L*(Tf-Ti)\n",
    "    return DL\n",
    "\n",
    "def thermal_a(DL,L,Tf,Ti):\n",
    "    a = DL/(L*(Tf-Ti))\n",
    "    return a \n",
    "\n",
    "alfa = thermal_a(DL,L,Tf,Ti)\n",
    "print(\"alfa =\", alfa, \"1/°c\")\n",
    "\n",
    "def rule4(Q,m,dA,A,n,dB,B):\n",
    "    dQ = Q*sqrt((m*dA/A)**2+(n*dB/B)**2)\n",
    "    return dQ\n",
    "\n",
    "def ruleFour(Q,consts,deltas,vals):\n",
    "    dQ = np.abs(Q)*np.sqrt(np.sum((consts*deltas/vals)**2))\n",
    "    return dQ\n",
    "\n",
    "const = np.array([1,-1,-1,-1])\n",
    "delta = np.array([0.00001,0.001,0.3,0.1])\n",
    "val = np.array([DL,L,Ti,Tf])\n",
    "\n",
    "dalfa = ruleFour(alfa,const,delta,val)\n",
    "print(dalfa,\"1/°c\")\n",
    "\n"
   ]
  },
  {
   "cell_type": "code",
   "execution_count": null,
   "metadata": {},
   "outputs": [],
   "source": []
  }
 ],
 "metadata": {
  "kernelspec": {
   "display_name": "Python 3",
   "language": "python",
   "name": "python3"
  },
  "language_info": {
   "codemirror_mode": {
    "name": "ipython",
    "version": 3
   },
   "file_extension": ".py",
   "mimetype": "text/x-python",
   "name": "python",
   "nbconvert_exporter": "python",
   "pygments_lexer": "ipython3",
   "version": "3.7.3"
  }
 },
 "nbformat": 4,
 "nbformat_minor": 2
}
